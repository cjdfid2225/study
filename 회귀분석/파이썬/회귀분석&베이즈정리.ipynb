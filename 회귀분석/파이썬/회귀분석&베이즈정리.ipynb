{
 "cells": [
  {
   "cell_type": "code",
   "execution_count": 3,
   "metadata": {},
   "outputs": [
    {
     "name": "stdout",
     "output_type": "stream",
     "text": [
      "1 : 1/6\n",
      "2 : 1/6\n",
      "3 : 1/6\n",
      "4 : 1/6\n",
      "5 : 1/6\n",
      "6 : 1/6\n",
      "확률변수: (1, 2, 3, 4, 5, 6), 각 확률: (1/6, 1/6, 1/6, 1/6, 1/6, 1/6), 모든 확률 합: 1\n"
     ]
    }
   ],
   "source": [
    "# 주사위던지기 이산확률\n",
    "from lea import leaf\n",
    "import lea\n",
    "import numpy as np\n",
    "\n",
    "dice = leaf.dice(1,prob_type='r')\n",
    "print(dice)\n",
    "\n",
    "X = dice.support #확률변수 조회\n",
    "p_x = dice.ps\n",
    "x_sum = dice.p_sum\n",
    "print(f'확률변수: {X}, 각 확률: {p_x}, 모든 확률 합: {x_sum}')"
   ]
  },
  {
   "cell_type": "code",
   "execution_count": 7,
   "metadata": {},
   "outputs": [
    {
     "name": "stdout",
     "output_type": "stream",
     "text": [
      "<class 'pandas.core.frame.DataFrame'>\n",
      "Int64Index: 6 entries, 1 to 6\n",
      "Data columns (total 1 columns):\n",
      " #   Column   Non-Null Count  Dtype \n",
      "---  ------   --------------  ----- \n",
      " 0   f(dice)  6 non-null      object\n",
      "dtypes: object(1)\n",
      "memory usage: 96.0+ bytes\n",
      "None\n",
      "\n",
      "<class 'pandas.core.frame.DataFrame'>\n",
      "Index: 1 entries, f(dice) to f(dice)\n",
      "Data columns (total 6 columns):\n",
      " #   Column  Non-Null Count  Dtype \n",
      "---  ------  --------------  ----- \n",
      " 0   1       1 non-null      object\n",
      " 1   2       1 non-null      object\n",
      " 2   3       1 non-null      object\n",
      " 3   4       1 non-null      object\n",
      " 4   5       1 non-null      object\n",
      " 5   6       1 non-null      object\n",
      "dtypes: object(6)\n",
      "memory usage: 136.0+ bytes\n",
      "None\n",
      "           1    2    3    4    5    6\n",
      "f(dice)  1/6  1/6  1/6  1/6  1/6  1/6\n",
      "\n",
      "x: (4,), p:1/6\n"
     ]
    },
    {
     "data": {
      "image/png": "[encoded data removed]",
      "text/plain": [
       "<Figure size 432x288 with 1 Axes>"
      ]
     },
     "metadata": {
      "needs_background": "light"
     },
     "output_type": "display_data"
    }
   ],
   "source": [
    "import pandas as pd\n",
    "import matplotlib.pyplot as plt\n",
    "\n",
    "pt = pd.DataFrame(dice.ps,index=dice.support,columns=['f(dice)'])\n",
    "print(pt.info())\n",
    "print()\n",
    "pt_t = pt.T\n",
    "print(pt_t.info())\n",
    "print(pt_t)\n",
    "print()\n",
    "x = dice.random_draw(1) #인자는 1개만 입력. 1이면 1개의 주사위 결과, 2이면 2개의 결과, ...\n",
    "p = dice.p(x[0])\n",
    "print(f'x: {x}, p:{p}')\n",
    "dice.plot()\n",
    "plt.show()"
   ]
  },
  {
   "cell_type": "code",
   "execution_count": 9,
   "metadata": {},
   "outputs": [
    {
     "name": "stdout",
     "output_type": "stream",
     "text": [
      "A : 1/6\n",
      "B : 2/6\n",
      "C : 3/6 \n",
      " 1\n",
      "A : 0.16666666666666666\n",
      "B : 0.3333333333333333\n",
      "C : 0.5 \n",
      " 1.0\n"
     ]
    },
    {
     "data": {
      "image/png": "[encoded data removed]",
      "text/plain": [
       "<Figure size 432x288 with 1 Axes>"
      ]
     },
     "metadata": {
      "needs_background": "light"
     },
     "output_type": "display_data"
    }
   ],
   "source": [
    "# 일반적 이산확률 생성시 vals 함수 사용\n",
    "from lea import leaf\n",
    "import lea\n",
    "import numpy as np\n",
    "import pandas as pd\n",
    "import matplotlib.pyplot as plt\n",
    "\n",
    "symbol = lea.vals('A','B','B','C','C','C',prob_type='r')\n",
    "print(symbol, '\\n', symbol.p_sum)\n",
    "\n",
    "# 확률질량함수를 이용한 이산확률 만들기\n",
    "symbol2 = lea.pmf({'A':1,'B':2,'C':3})\n",
    "print(symbol2, '\\n', symbol2.p_sum)\n",
    "\n",
    "symbol.plot()"
   ]
  },
  {
   "cell_type": "code",
   "execution_count": 10,
   "metadata": {},
   "outputs": [
    {
     "name": "stdout",
     "output_type": "stream",
     "text": [
      "1/2 1/2\n",
      "        H    T\n",
      "coin  1/2  1/2\n"
     ]
    }
   ],
   "source": [
    "flip = lea.vals('H','T',prob_type='r')\n",
    "p1 = flip.p('T')\n",
    "p2 = lea.P(flip == 'T')\n",
    "print(p1,p2)\n",
    "\n",
    "df = pd.DataFrame(flip.ps, index=flip.support, columns=['coin'])\n",
    "print(df.T)"
   ]
  },
  {
   "cell_type": "code",
   "execution_count": 17,
   "metadata": {},
   "outputs": [
    {
     "name": "stdout",
     "output_type": "stream",
     "text": [
      "3/5\n"
     ]
    }
   ],
   "source": [
    "# 동전을 5번 던진 후의 랜덤하게 발생된 사건에 대한 확률\n",
    "import random\n",
    "\n",
    "random.seed(7777) #이게 없으면 run돌릴 때마다 확률분포가 달라진다.\n",
    "flip = lea.vals('H','T',prob_type='r')\n",
    "temp = flip.random(5)\n",
    "flip2 = lea.vals(*temp,prob_type='r') #*변수 : unpacking(낱개로 들어간다.분리역할)\n",
    "\n",
    "b = lea.P(flip2 == 'H')\n",
    "print(b)"
   ]
  },
  {
   "cell_type": "code",
   "execution_count": 18,
   "metadata": {},
   "outputs": [
    {
     "name": "stdout",
     "output_type": "stream",
     "text": [
      "1/2\n",
      "1/2\n",
      "1/3\n"
     ]
    }
   ],
   "source": [
    "dice = leaf.dice(1,prob_type='r')\n",
    "b = lea.P((dice==2)|(dice==4)|(dice==6))\n",
    "print(b)\n",
    "\n",
    "c = lea.P(dice%2==0)\n",
    "print(c)\n",
    "\n",
    "# 조건부확률 : given 메소드 사용\n",
    "d = dice.given((dice%2==0)).p(4) \n",
    "print(d)"
   ]
  },
  {
   "cell_type": "code",
   "execution_count": 21,
   "metadata": {},
   "outputs": [
    {
     "name": "stdout",
     "output_type": "stream",
     "text": [
      "               1                                   2                    ...  \\\n",
      "               1     2     3     4     5     6     1     2     3     4  ...   \n",
      "dice joint  1/36  1/36  1/36  1/36  1/36  1/36  1/36  1/36  1/36  1/36  ...   \n",
      "\n",
      "               5                       6                                \n",
      "               3     4     5     6     1     2     3     4     5     6  \n",
      "dice joint  1/36  1/36  1/36  1/36  1/36  1/36  1/36  1/36  1/36  1/36  \n",
      "\n",
      "[1 rows x 36 columns]\n",
      "(1, 1) : 1/12\n",
      "(1, 2) : 1/12\n",
      "(1, 3) : 1/12\n",
      "(1, 4) : 1/12\n",
      "(1, 5) : 1/12\n",
      "(1, 6) : 1/12\n",
      "(2, 1) : 1/12\n",
      "(2, 2) : 1/12\n",
      "(2, 3) : 1/12\n",
      "(2, 4) : 1/12\n",
      "(2, 5) : 1/12\n",
      "(2, 6) : 1/12\n"
     ]
    }
   ],
   "source": [
    "dice1 = lea.interval(1,6,prob_type='r')\n",
    "dice2 = dice1.new() #복사\n",
    "dice3 = lea.joint(dice1,dice2)\n",
    "\n",
    "df = pd.DataFrame(dice3.ps,index=dice3.support,columns=['dice joint'])\n",
    "print(df.T)\n",
    "\n",
    "# 첫 번째 주사위가 2보다 작은 수가 나오는 조건부확률\n",
    "print(dice3.given(dice1 <= 2))"
   ]
  },
  {
   "cell_type": "code",
   "execution_count": null,
   "metadata": {},
   "outputs": [],
   "source": [
    "P(첫|분) = P(분|첫)*P(첫)/P(분) = 0.75*0.5/(0.5*0.75+0.5*0.5) = 0.6\n",
    "P(L|p) = P(p|L)*P(L)/P(p) = 0.99*0.01/(0.01*0.99+0.99*0.01) = 0.495"
   ]
  },
  {
   "cell_type": "code",
   "execution_count": null,
   "metadata": {},
   "outputs": [],
   "source": [
    "P(아산|불량) = P(불량|아산)*P(아산)/P(불량) = 0.03*0.7/(0.3*0.02+0.7*0.03) = 0.78"
   ]
  },
  {
   "cell_type": "code",
   "execution_count": 29,
   "metadata": {},
   "outputs": [
    {
     "data": {
      "text/plain": [
       "3/5"
      ]
     },
     "execution_count": 29,
     "metadata": {},
     "output_type": "execute_result"
    }
   ],
   "source": [
    "# 파이썬코드로 조건부확률 구현\n",
    "# 바구니1에는 노랑사탕 30개, 빨강사탕 10개 / 바구니2에는 노랑사탕과 빨강사탕 각 20개가 들어있다.\n",
    "candy = lea.pmf({'Y':50,'R':30},prob_type='r')\n",
    "candy.p('Y') # >> P(Y)\n",
    "\n",
    "# P(basket_1|Y) = ?\n",
    "basket1.p('basket_1')*basket_1.p('Y')/candy.p('Y') # >> P(basket_1)*P(Y|basket_1)/P(Y)"
   ]
  },
  {
   "cell_type": "code",
   "execution_count": 30,
   "metadata": {},
   "outputs": [
    {
     "name": "stdout",
     "output_type": "stream",
     "text": [
      "basket_1 : 1/2\n",
      "basket_2 : 1/2\n",
      "R : 1/4\n",
      "Y : 3/4\n",
      "       basket_1 basket_2\n",
      "yellow      1/4      1/2\n",
      "red         3/4      1/2\n"
     ]
    },
    {
     "data": {
      "text/plain": [
       "<matplotlib.axes._subplots.AxesSubplot at 0x2725bbedf88>"
      ]
     },
     "execution_count": 30,
     "metadata": {},
     "output_type": "execute_result"
    },
    {
     "data": {
      "image/png": "[encoded data removed]",
      "text/plain": [
       "<Figure size 432x288 with 1 Axes>"
      ]
     },
     "metadata": {
      "needs_background": "light"
     },
     "output_type": "display_data"
    }
   ],
   "source": [
    "from lea import leaf\n",
    "import lea\n",
    "import numpy as np\n",
    "import pandas as pd\n",
    "import matplotlib.pyplot as plt\n",
    "\n",
    "basket1 = lea.vals(\"basket_1\",\"basket_2\",prob_type='r')\n",
    "print(basket1)\n",
    "\n",
    "basket1.p('basket_1')\n",
    "basket_1 = lea.pmf({'Y':30,'R':10},prob_type='r')\n",
    "print(basket_1)\n",
    "basket_2 = lea.pmf({'Y':20, 'R':20},prob_type='r')\n",
    "\n",
    "# 확률분포 생성\n",
    "data = {'basket_1':basket_1.ps,'basket_2':basket_2.ps}\n",
    "df = pd.DataFrame(data,index=['yellow','red'])\n",
    "print(df)\n",
    "\n",
    "# bar chart로 표현할 때, 유리수는 처리못하므로 실수로 변경\n",
    "df_ = df.astype('float')\n",
    "df_.plot(kind='bar')"
   ]
  }
 ],
 "metadata": {
  "kernelspec": {
   "display_name": "Python 3",
   "language": "python",
   "name": "python3"
  },
  "language_info": {
   "codemirror_mode": {
    "name": "ipython",
    "version": 3
   },
   "file_extension": ".py",
   "mimetype": "text/x-python",
   "name": "python",
   "nbconvert_exporter": "python",
   "pygments_lexer": "ipython3",
   "version": "3.7.6"
  }
 },
 "nbformat": 4,
 "nbformat_minor": 4
}
